{
 "cells": [
  {
   "cell_type": "code",
   "execution_count": 1,
   "metadata": {},
   "outputs": [],
   "source": [
    "import cv2\n",
    "import os\n",
    "import numpy as np"
   ]
  },
  {
   "cell_type": "code",
   "execution_count": 2,
   "metadata": {},
   "outputs": [],
   "source": [
    "def save_video_frames(video_path, output_folder, frames_to_get):\n",
    "    cap = cv2.VideoCapture(video_path)\n",
    "    for i in frames_to_get:\n",
    "        ret, frame = cap.read()\n",
    "        if not ret:\n",
    "            break\n",
    "        frame_path = os.path.join(output_folder, f\"frame_{i:04d}.png\")\n",
    "        cv2.imwrite(frame_path, frame)\n",
    "    cap.release()"
   ]
  },
  {
   "cell_type": "code",
   "execution_count": 5,
   "metadata": {},
   "outputs": [],
   "source": [
    "video_path = 'eye.mp4'\n",
    "output_folder = 'video_frames'\n",
    "save_video_frames(video_path, output_folder, [100, 200, 300, 400, 500, 600, 700, 800, 900, 1000, 1100, 1200])"
   ]
  },
  {
   "cell_type": "code",
   "execution_count": 6,
   "metadata": {},
   "outputs": [],
   "source": [
    "def merge_images_to_video(image_folder, output_video_path, frame_rate=30):\n",
    "    image_files = [f for f in os.listdir(image_folder) if f.endswith('.png')]\n",
    "    image_files.sort()\n",
    "    first_image_path = os.path.join(image_folder, image_files[0])\n",
    "    img = cv2.imread(first_image_path)\n",
    "    height, width, layers = img.shape\n",
    "    video_writer = cv2.VideoWriter(output_video_path, cv2.VideoWriter_fourcc(*'mp4v'), frame_rate, (width, height))\n",
    "    for image_file in image_files:\n",
    "        image_path = os.path.join(image_folder, image_file)\n",
    "        img = cv2.imread(image_path)\n",
    "        video_writer.write(img)\n",
    "    video_writer.release()"
   ]
  },
  {
   "cell_type": "code",
   "execution_count": 7,
   "metadata": {},
   "outputs": [],
   "source": [
    "image_folder = 'video_frames'\n",
    "output_video_path = 'output_video.mp4'\n",
    "merge_images_to_video(image_folder, output_video_path, frame_rate=30)"
   ]
  },
  {
   "cell_type": "code",
   "execution_count": 11,
   "metadata": {},
   "outputs": [],
   "source": [
    "def capture_frames_from_webcam(output_folder):\n",
    "    cap = cv2.VideoCapture(0)\n",
    "    if not cap.isOpened():\n",
    "        print(\"Error: Could not open webcam.\")\n",
    "        return\n",
    "    while True:\n",
    "        ret, frame = cap.read()\n",
    "        if not ret:\n",
    "            break\n",
    "        cv2.imshow('Webcam Feed', frame)\n",
    "        image_path = os.path.join(output_folder, f\"frame_{len(os.listdir(output_folder)):04d}.png\")\n",
    "        cv2.imwrite(image_path, frame)\n",
    "        if cv2.waitKey(25) & 0xFF == ord('q'):\n",
    "            break\n",
    "    cap.release()\n",
    "    cv2.destroyAllWindows()"
   ]
  },
  {
   "cell_type": "code",
   "execution_count": 12,
   "metadata": {},
   "outputs": [],
   "source": [
    "output_folder = 'captured_frames'\n",
    "capture_frames_from_webcam(output_folder)"
   ]
  },
  {
   "cell_type": "code",
   "execution_count": 11,
   "metadata": {},
   "outputs": [],
   "source": [
    "def chroma_keying(video_path_subject, video_path_background, output_path):\n",
    "    cap_subject = cv2.VideoCapture(video_path_subject)\n",
    "    cap_background = cv2.VideoCapture(video_path_background)\n",
    "    width = int(cap_subject.get(cv2.CAP_PROP_FRAME_WIDTH))\n",
    "    height = int(cap_subject.get(cv2.CAP_PROP_FRAME_HEIGHT))\n",
    "    fps = cap_subject.get(cv2.CAP_PROP_FPS)\n",
    "    fourcc = cv2.VideoWriter_fourcc(*'mp4v')\n",
    "    out = cv2.VideoWriter(output_path, fourcc, fps, (width, height))\n",
    "    while True:\n",
    "        ret_subject, frame_subject = cap_subject.read()\n",
    "        ret_background, frame_background = cap_background.read()\n",
    "        if not ret_subject or not ret_background:\n",
    "            break\n",
    "        hsv_frame = cv2.cvtColor(frame_subject, cv2.COLOR_BGR2HSV)\n",
    "        mask = cv2.inRange(hsv_frame, np.array([40, 40, 40]), np.array([80, 255, 255]))\n",
    "        inverted_mask = cv2.bitwise_not(mask)\n",
    "        subject_part = cv2.bitwise_and(frame_subject, frame_subject, mask=inverted_mask)\n",
    "        background_part = cv2.bitwise_and(frame_background, frame_background, mask=mask)\n",
    "        composite_frame = cv2.add(subject_part, background_part)\n",
    "        out.write(composite_frame)\n",
    "    cap_subject.release()\n",
    "    cap_background.release()\n",
    "    out.release()"
   ]
  },
  {
   "cell_type": "code",
   "execution_count": 12,
   "metadata": {},
   "outputs": [],
   "source": [
    "subject_video_path = 'subject_video.mp4'\n",
    "background_video_path = 'background_video.mp4'\n",
    "output_video_path = 'composite_video.mp4'\n",
    "chroma_keying(subject_video_path, background_video_path, output_video_path)"
   ]
  },
  {
   "cell_type": "code",
   "execution_count": null,
   "metadata": {},
   "outputs": [],
   "source": []
  }
 ],
 "metadata": {
  "kernelspec": {
   "display_name": "Python 3",
   "language": "python",
   "name": "python3"
  },
  "language_info": {
   "codemirror_mode": {
    "name": "ipython",
    "version": 3
   },
   "file_extension": ".py",
   "mimetype": "text/x-python",
   "name": "python",
   "nbconvert_exporter": "python",
   "pygments_lexer": "ipython3",
   "version": "3.11.7"
  }
 },
 "nbformat": 4,
 "nbformat_minor": 2
}

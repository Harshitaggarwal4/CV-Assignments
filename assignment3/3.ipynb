{
 "cells": [
  {
   "cell_type": "code",
   "execution_count": null,
   "metadata": {},
   "outputs": [],
   "source": [
    "import cv2\n",
    "import numpy as np\n",
    "import pandas as pd\n",
    "import os\n",
    "import time\n",
    "import shutil"
   ]
  },
  {
   "cell_type": "code",
   "execution_count": null,
   "metadata": {},
   "outputs": [],
   "source": [
    "def extract_frames(video_path, output_folder, duration=30):\n",
    "    cap = cv2.VideoCapture(video_path)\n",
    "    total_frames = int(cap.get(cv2.CAP_PROP_FRAME_COUNT))\n",
    "    video_fps = cap.get(cv2.CAP_PROP_FPS)\n",
    "    end_frame = min(int(duration * video_fps), total_frames)\n",
    "    frame_index = 0\n",
    "    while cap.isOpened() and frame_index < end_frame:\n",
    "        ret, frame = cap.read()\n",
    "        if not ret:\n",
    "            break\n",
    "        output_path = f\"{output_folder}/frame_{frame_index:05d}.jpg\"\n",
    "        cv2.imwrite(output_path, frame)\n",
    "        frame_index += 1\n",
    "    cap.release()\n",
    "    cv2.destroyAllWindows()"
   ]
  },
  {
   "cell_type": "code",
   "execution_count": null,
   "metadata": {},
   "outputs": [],
   "source": [
    "video_path = \"input_video.mp4\"\n",
    "output_folder = \"./output_frames\"\n",
    "duration = 30\n",
    "extract_frames(video_path, output_folder, duration)"
   ]
  },
  {
   "cell_type": "code",
   "execution_count": null,
   "metadata": {},
   "outputs": [],
   "source": [
    "def detect_faces_in_frames(frames_folder, output_folder):\n",
    "    face_cascade = cv2.CascadeClassifier(cv2.data.haarcascades + 'haarcascade_frontalface_default.xml')\n",
    "    total_time = 0\n",
    "    frame_count = 0\n",
    "    for filename in os.listdir(frames_folder):\n",
    "        if filename.endswith(\".jpg\"):\n",
    "            frame_path = os.path.join(frames_folder, filename)\n",
    "            frame = cv2.imread(frame_path)\n",
    "            start_time = time.time()\n",
    "            gray = cv2.cvtColor(frame, cv2.COLOR_BGR2GRAY)\n",
    "            faces = face_cascade.detectMultiScale(gray, scaleFactor=1.1, minNeighbors=5, minSize=(30, 30))\n",
    "            for (x, y, w, h) in faces:\n",
    "                cv2.rectangle(frame, (x, y), (x+w, y+h), (255, 0, 0), 2)\n",
    "            output_path = os.path.join(output_folder, filename)\n",
    "            cv2.imwrite(output_path, frame)\n",
    "            end_time = time.time()\n",
    "            frame_processing_time = end_time - start_time\n",
    "            total_time += frame_processing_time\n",
    "            frame_count += 1\n",
    "    average_time_per_frame = total_time / frame_count if frame_count > 0 else 0\n",
    "    print(\"Average time per frame:\", average_time_per_frame, \"seconds\")"
   ]
  },
  {
   "cell_type": "code",
   "execution_count": null,
   "metadata": {},
   "outputs": [],
   "source": [
    "def detect_faces_in_frames_coloured(frames_folder, output_folder):\n",
    "    face_cascade = cv2.CascadeClassifier(cv2.data.haarcascades + 'haarcascade_frontalface_default.xml')\n",
    "    total_time = 0\n",
    "    frame_count = 0\n",
    "    for filename in os.listdir(frames_folder):\n",
    "        if filename.endswith(\".jpg\"):\n",
    "            frame_path = os.path.join(frames_folder, filename)\n",
    "            frame = cv2.imread(frame_path)\n",
    "            start_time = time.time()\n",
    "            faces = face_cascade.detectMultiScale(frame, scaleFactor=1.1, minNeighbors=5, minSize=(30, 30))\n",
    "            for (x, y, w, h) in faces:\n",
    "                cv2.rectangle(frame, (x, y), (x+w, y+h), (255, 0, 0), 2)\n",
    "            output_path = os.path.join(output_folder, filename)\n",
    "            cv2.imwrite(output_path, frame)\n",
    "            end_time = time.time()\n",
    "            frame_processing_time = end_time - start_time\n",
    "            total_time += frame_processing_time\n",
    "            frame_count += 1\n",
    "    average_time_per_frame = total_time / frame_count if frame_count > 0 else 0\n",
    "    print(\"Average time per frame coloured:\", average_time_per_frame, \"seconds\")"
   ]
  },
  {
   "cell_type": "code",
   "execution_count": null,
   "metadata": {},
   "outputs": [],
   "source": [
    "frames_folder = \"output_frames\"\n",
    "output_folder = \"output_frames_with_faces\"\n",
    "output_folder_coloured = \"output_frames_with_faces_coloured\"\n",
    "detect_faces_in_frames(frames_folder, output_folder)\n",
    "detect_faces_in_frames_coloured(frames_folder, output_folder_coloured)"
   ]
  },
  {
   "cell_type": "code",
   "execution_count": null,
   "metadata": {},
   "outputs": [],
   "source": [
    "def frames_to_video(frames_folder, output_video_path, fps=30):\n",
    "    frame_files = [f for f in os.listdir(frames_folder) if f.endswith('.jpg')]\n",
    "    frame_files.sort()\n",
    "    frame_path = os.path.join(frames_folder, frame_files[0])\n",
    "    frame = cv2.imread(frame_path)\n",
    "    height, width, _ = frame.shape\n",
    "    fourcc = cv2.VideoWriter_fourcc(*'mp4v')\n",
    "    out = cv2.VideoWriter(output_video_path, fourcc, fps, (width, height))\n",
    "    for filename in frame_files:\n",
    "        frame_path = os.path.join(frames_folder, filename)\n",
    "        frame = cv2.imread(frame_path)\n",
    "        out.write(frame)\n",
    "    out.release()\n",
    "    print(f\"Video saved successfully at '{output_video_path}'\")"
   ]
  },
  {
   "cell_type": "code",
   "execution_count": null,
   "metadata": {},
   "outputs": [],
   "source": [
    "frames_folder = \"output_frames_with_faces\"\n",
    "output_video_path = \"output_video.mp4\"\n",
    "frames_to_video(frames_folder, output_video_path)\n",
    "frames_folder = \"output_frames_with_faces_coloured\"\n",
    "output_video_path = \"output_video_coloured.mp4\"\n",
    "frames_to_video(frames_folder, output_video_path)"
   ]
  },
  {
   "cell_type": "code",
   "execution_count": null,
   "metadata": {},
   "outputs": [],
   "source": [
    "def calculate_iou(box1, box2):\n",
    "    x1, y1, w1, h1 = box1\n",
    "    x2, y2, w2, h2 = box2\n",
    "    x_left = max(x1, x2)\n",
    "    y_top = max(y1, y2)\n",
    "    x_right = min(x1 + w1, x2 + w2)\n",
    "    y_bottom = min(y1 + h1, y2 + h2)\n",
    "    intersection_area = max(0, x_right - x_left) * max(0, y_bottom - y_top)\n",
    "    box1_area = w1 * h1\n",
    "    box2_area = w2 * h2\n",
    "    iou = intersection_area / float(box1_area + box2_area - intersection_area)\n",
    "    return iou"
   ]
  },
  {
   "cell_type": "code",
   "execution_count": null,
   "metadata": {},
   "outputs": [],
   "source": []
  }
 ],
 "metadata": {
  "kernelspec": {
   "display_name": "Python 3",
   "language": "python",
   "name": "python3"
  },
  "language_info": {
   "codemirror_mode": {
    "name": "ipython",
    "version": 3
   },
   "file_extension": ".py",
   "mimetype": "text/x-python",
   "name": "python",
   "nbconvert_exporter": "python",
   "pygments_lexer": "ipython3",
   "version": "3.11.9"
  }
 },
 "nbformat": 4,
 "nbformat_minor": 2
}

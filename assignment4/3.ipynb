{
  "cells": [
    {
      "cell_type": "code",
      "execution_count": 22,
      "metadata": {},
      "outputs": [],
      "source": [
        "import torch\n",
        "import torchvision.models as models\n",
        "from transformers import CLIPProcessor, CLIPModel\n",
        "from PIL import Image\n",
        "from torchvision.transforms import Compose, Resize, CenterCrop, ToTensor, Normalize\n",
        "import clip\n",
        "import numpy as np"
      ]
    },
    {
      "cell_type": "code",
      "execution_count": 46,
      "metadata": {},
      "outputs": [],
      "source": [
        "import subprocess\n",
        "\n",
        "def monitor_gpu_memory():\n",
        "    result = subprocess.run(['nvidia-smi'], stdout=subprocess.PIPE)\n",
        "    output = result.stdout.decode('utf-8')\n",
        "    return output"
      ]
    },
    {
      "cell_type": "code",
      "execution_count": 23,
      "metadata": {},
      "outputs": [
        {
          "name": "stdout",
          "output_type": "stream",
          "text": [
            "['tench', 'goldfish', 'great white shark', 'tiger shark', 'hammerhead', 'electric ray', 'stingray', 'cock', 'hen', 'ostrich', 'brambling', 'goldfinch', 'house finch', 'junco', 'indigo bunting', 'robin', 'bulbul', 'jay', 'magpie', 'chickadee', 'water ouzel', 'kite', 'bald eagle', 'vulture', 'great grey owl', 'European fire salamander', 'common newt', 'eft', 'spotted salamander', 'axolotl', 'bullfrog', 'tree frog', 'tailed frog', 'loggerhead', 'leatherback turtle', 'mud turtle', 'terrapin', 'box turtle', 'banded gecko', 'common iguana', 'American chameleon', 'whiptail', 'agama', 'frilled lizard', 'alligator lizard', 'Gila monster', 'green lizard', 'African chameleon', 'Komodo dragon', 'African crocodile', 'American alligator', 'triceratops', 'thunder snake', 'ringneck snake', 'hognose snake', 'green snake', 'king snake', 'garter snake', 'water snake', 'vine snake', 'night snake', 'boa constrictor', 'rock python', 'Indian cobra', 'green mamba', 'sea snake', 'horned viper', 'diamondback', 'sidewinder', 'trilobite', 'harvestman', 'scorpion', 'black and gold garden spider', 'barn spider', 'garden spider', 'black widow', 'tarantula', 'wolf spider', 'tick', 'centipede', 'black grouse', 'ptarmigan', 'ruffed grouse', 'prairie chicken', 'peacock', 'quail', 'partridge', 'African grey', 'macaw', 'sulphur-crested cockatoo', 'lorikeet', 'coucal', 'bee eater', 'hornbill', 'hummingbird', 'jacamar', 'toucan', 'drake', 'red-breasted merganser', 'goose', 'black swan', 'tusker', 'echidna', 'platypus', 'wallaby', 'koala', 'wombat', 'jellyfish', 'sea anemone', 'brain coral', 'flatworm', 'nematode', 'conch', 'snail', 'slug', 'sea slug', 'chiton', 'chambered nautilus', 'Dungeness crab', 'rock crab', 'fiddler crab', 'king crab', 'American lobster', 'spiny lobster', 'crayfish', 'hermit crab', 'isopod', 'white stork', 'black stork', 'spoonbill', 'flamingo', 'little blue heron', 'American egret', 'bittern', 'crane', 'limpkin', 'European gallinule', 'American coot', 'bustard', 'ruddy turnstone', 'red-backed sandpiper', 'redshank', 'dowitcher', 'oystercatcher', 'pelican', 'king penguin', 'albatross', 'grey whale', 'killer whale', 'dugong', 'sea lion', 'Chihuahua', 'Japanese spaniel', 'Maltese dog', 'Pekinese', 'Shih-Tzu', 'Blenheim spaniel', 'papillon', 'toy terrier', 'Rhodesian ridgeback', 'Afghan hound', 'basset', 'beagle', 'bloodhound', 'bluetick', 'black-and-tan coonhound', 'Walker hound', 'English foxhound', 'redbone', 'borzoi', 'Irish wolfhound', 'Italian greyhound', 'whippet', 'Ibizan hound', 'Norwegian elkhound', 'otterhound', 'Saluki', 'Scottish deerhound', 'Weimaraner', 'Staffordshire bullterrier', 'American Staffordshire terrier', 'Bedlington terrier', 'Border terrier', 'Kerry blue terrier', 'Irish terrier', 'Norfolk terrier', 'Norwich terrier', 'Yorkshire terrier', 'wire-haired fox terrier', 'Lakeland terrier', 'Sealyham terrier', 'Airedale', 'cairn', 'Australian terrier', 'Dandie Dinmont', 'Boston bull', 'miniature schnauzer', 'giant schnauzer', 'standard schnauzer', 'Scotch terrier', 'Tibetan terrier', 'silky terrier', 'soft-coated wheaten terrier', 'West Highland white terrier', 'Lhasa', 'flat-coated retriever', 'curly-coated retriever', 'golden retriever', 'Labrador retriever', 'Chesapeake Bay retriever', 'German short-haired pointer', 'vizsla', 'English setter', 'Irish setter', 'Gordon setter', 'Brittany spaniel', 'clumber', 'English springer', 'Welsh springer spaniel', 'cocker spaniel', 'Sussex spaniel', 'Irish water spaniel', 'kuvasz', 'schipperke', 'groenendael', 'malinois', 'briard', 'kelpie', 'komondor', 'Old English sheepdog', 'Shetland sheepdog', 'collie', 'Border collie', 'Bouvier des Flandres', 'Rottweiler', 'German shepherd', 'Doberman', 'miniature pinscher', 'Greater Swiss Mountain dog', 'Bernese mountain dog', 'Appenzeller', 'EntleBucher', 'boxer', 'bull mastiff', 'Tibetan mastiff', 'French bulldog', 'Great Dane', 'Saint Bernard', 'Eskimo dog', 'malamute', 'Siberian husky', 'dalmatian', 'affenpinscher', 'basenji', 'pug', 'Leonberg', 'Newfoundland', 'Great Pyrenees', 'Samoyed', 'Pomeranian', 'chow', 'keeshond', 'Brabancon griffon', 'Pembroke', 'Cardigan', 'toy poodle', 'miniature poodle', 'standard poodle', 'Mexican hairless', 'timber wolf', 'white wolf', 'red wolf', 'coyote', 'dingo', 'dhole', 'African hunting dog', 'hyena', 'red fox', 'kit fox', 'Arctic fox', 'grey fox', 'tabby', 'tiger cat', 'Persian cat', 'Siamese cat', 'Egyptian cat', 'cougar', 'lynx', 'leopard', 'snow leopard', 'jaguar', 'lion', 'tiger', 'cheetah', 'brown bear', 'American black bear', 'ice bear', 'sloth bear', 'mongoose', 'meerkat', 'tiger beetle', 'ladybug', 'ground beetle', 'long-horned beetle', 'leaf beetle', 'dung beetle', 'rhinoceros beetle', 'weevil', 'fly', 'bee', 'ant', 'grasshopper', 'cricket', 'walking stick', 'cockroach', 'mantis', 'cicada', 'leafhopper', 'lacewing', '\"dragonfly', 'damselfly', 'admiral', 'ringlet', 'monarch', 'cabbage butterfly', 'sulphur butterfly', 'lycaenid', 'starfish', 'sea urchin', 'sea cucumber', 'wood rabbit', 'hare', 'Angora', 'hamster', 'porcupine', 'fox squirrel', 'marmot', 'beaver', 'guinea pig', 'sorrel', 'zebra', 'hog', 'wild boar', 'warthog', 'hippopotamus', 'ox', 'water buffalo', 'bison', 'ram', 'bighorn', 'ibex', 'hartebeest', 'impala', 'gazelle', 'Arabian camel', 'llama', 'weasel', 'mink', 'polecat', 'black-footed ferret', 'otter', 'skunk', 'badger', 'armadillo', 'three-toed sloth', 'orangutan', 'gorilla', 'chimpanzee', 'gibbon', 'siamang', 'guenon', 'patas', 'baboon', 'macaque', 'langur', 'colobus', 'proboscis monkey', 'marmoset', 'capuchin', 'howler monkey', 'titi', 'spider monkey', 'squirrel monkey', 'Madagascar cat', 'indri', 'Indian elephant', 'African elephant', 'lesser panda', 'giant panda', 'barracouta', 'eel', 'coho', 'rock beauty', 'anemone fish', 'sturgeon', 'gar', 'lionfish', 'puffer', 'abacus', 'abaya', '\"academic gown', 'accordion', 'acoustic guitar', 'aircraft carrier', 'airliner', 'airship', 'altar', 'ambulance', 'amphibian', 'analog clock', 'apiary', 'apron', 'ashcan', 'assault rifle', 'backpack', 'bakery', 'balance beam', 'balloon', 'ballpoint', 'Band Aid', 'banjo', 'bannister', 'barbell', 'barber chair', 'barbershop', 'barn', 'barometer', 'barrel', 'barrow', 'baseball', 'basketball', 'bassinet', 'bassoon', 'bathing cap', 'bath towel', 'bathtub', 'beach wagon', 'beacon', 'beaker', 'bearskin', 'beer bottle', 'beer glass', 'bell cote', 'bib', 'bicycle-built-for-two', 'bikini', 'binder', 'binoculars', 'birdhouse', 'boathouse', 'bobsled', 'bolo tie', 'bonnet', 'bookcase', 'bookshop', 'bottlecap', 'bow', 'bow tie', 'brass', 'brassiere', 'breakwater', 'breastplate', 'broom', 'bucket', 'buckle', 'bulletproof vest', 'bullet train', 'butcher shop', 'cab', 'caldron', 'candle', 'cannon', 'canoe', 'can opener', 'cardigan', 'car mirror', 'carousel', '\"carpenter\\'s kit', 'carton', 'car wheel', 'cash machine', 'cassette', 'cassette player', 'castle', 'catamaran', 'CD player', 'cello', 'cellular telephone', 'chain', 'chainlink fence', 'chain mail', 'chain saw', 'chest', 'chiffonier', 'chime', 'china cabinet', 'Christmas stocking', 'church', 'cinema', 'cleaver', 'cliff dwelling', 'cloak', 'clog', 'cocktail shaker', 'coffee mug', 'coffeepot', 'coil', 'combination lock', 'computer keyboard', 'confectionery', 'container ship', 'convertible', 'corkscrew', 'cornet', 'cowboy boot', 'cowboy hat', 'cradle', 'crane', 'crash helmet', 'crate', 'crib', 'Crock Pot', 'croquet ball', 'crutch', 'cuirass', 'dam', 'desk', 'desktop computer', 'dial telephone', 'diaper', 'digital clock', 'digital watch', 'dining table', 'dishrag', 'dishwasher', 'disk brake', 'dock', 'dogsled', 'dome', 'doormat', 'drilling platform', 'drum', 'drumstick', 'dumbbell', 'Dutch oven', 'electric fan', 'electric guitar', 'electric locomotive', 'entertainment center', 'envelope', 'espresso maker', 'face powder', 'feather boa', 'file', 'fireboat', 'fire engine', 'fire screen', 'flagpole', 'flute', 'folding chair', 'football helmet', 'forklift', 'fountain', 'fountain pen', 'four-poster', 'freight car', 'French horn', 'frying pan', 'fur coat', 'garbage truck', 'gasmask', 'gas pump', 'goblet', 'go-kart', 'golf ball', 'golfcart', 'gondola', 'gong', 'gown', 'grand piano', 'greenhouse', 'grille', 'grocery store', 'guillotine', 'hair slide', 'hair spray', 'half track', 'hammer', 'hamper', 'hand blower', 'hand-held computer', 'handkerchief', 'hard disc', 'harmonica', 'harp', 'harvester', 'hatchet', 'holster', 'home theater', 'honeycomb', 'hook', 'hoopskirt', 'horizontal bar', 'horse cart', 'hourglass', 'iPod', 'iron', '\"jack-o\\'-lantern\"', 'jean', 'jeep', 'jersey', 'jigsaw puzzle', 'jinrikisha', 'joystick', 'kimono', 'knee pad', 'knot', 'lab coat', 'ladle', 'lampshade', 'laptop', 'lawn mower', 'lens cap', 'letter opener', 'library', 'lifeboat', 'lighter', 'limousine', 'liner', 'lipstick', 'Loafer', 'lotion', 'loudspeaker', '\"loupe', 'lumbermill', 'magnetic compass', 'mailbag', 'mailbox', 'maillot', 'maillot', 'manhole cover', 'maraca', 'marimba', 'mask', 'matchstick', 'maypole', 'maze', 'measuring cup', 'medicine chest', 'megalith', 'microphone', 'microwave', 'military uniform', 'milk can', 'minibus', 'miniskirt', 'minivan', 'missile', 'mitten', 'mixing bowl', 'mobile home', 'Model T', 'modem', 'monastery', 'monitor', 'moped', 'mortar', 'mortarboard', 'mosque', 'mosquito net', 'motor scooter', 'mountain bike', 'mountain tent', 'mouse', 'mousetrap', 'moving van', 'muzzle', 'nail', 'neck brace', 'necklace', 'nipple', 'notebook', 'obelisk', 'oboe', 'ocarina', 'odometer', 'oil filter', 'organ', 'oscilloscope', 'overskirt', 'oxcart', 'oxygen mask', 'packet', 'paddle', 'paddlewheel', 'padlock', 'paintbrush', '\"pajama', 'palace', 'panpipe', 'paper towel', 'parachute', 'parallel bars', 'park bench', 'parking meter', 'passenger car', 'patio', 'pay-phone', 'pedestal', 'pencil box', 'pencil sharpener', 'perfume', 'Petri dish', 'photocopier', 'pick', 'pickelhaube', 'picket fence', 'pickup', 'pier', 'piggy bank', 'pill bottle', 'pillow', 'ping-pong ball', 'pinwheel', 'pirate', 'pitcher', '\"plane', 'planetarium', 'plastic bag', 'plate rack', 'plow', '\"plunger', 'Polaroid camera', 'pole', 'police van', 'poncho', 'pool table', 'pop bottle', 'pot', '\"potter\\'s wheel\"', 'power drill', 'prayer rug', 'printer', 'prison', 'projectile', 'projector', 'puck', 'punching bag', 'purse', 'quill', 'quilt', 'racer', 'racket', 'radiator', 'radio', 'radio telescope', 'rain barrel', 'recreational vehicle', 'reel', 'reflex camera', 'refrigerator', 'remote control', 'restaurant', 'revolver', 'rifle', 'rocking chair', 'rotisserie', 'rubber eraser', 'rugby ball', 'rule', 'running shoe', 'safe', 'safety pin', 'saltshaker', 'sandal', 'sarong', 'sax', 'scabbard', 'scale', 'school bus', 'schooner', 'scoreboard', 'screen', 'screw', 'screwdriver', 'seat belt', 'sewing machine', 'shield', 'shoe shop', 'shoji', 'shopping basket', 'shopping cart', 'shovel', 'shower cap', 'shower curtain', 'ski', 'ski mask', 'sleeping bag', 'slide rule', 'sliding door', 'slot', 'snorkel', 'snowmobile', 'snowplow', 'soap dispenser', 'soccer ball', 'sock', 'solar dish', 'sombrero', 'soup bowl', 'space bar', 'space heater', 'space shuttle', 'spatula', 'speedboat', '\"spider web', 'spindle', 'sports car', 'spotlight', 'stage', 'steam locomotive', 'steel arch bridge', 'steel drum', 'stethoscope', 'stole', 'stone wall', 'stopwatch', 'stove', 'strainer', 'streetcar', 'stretcher', 'studio couch', 'stupa', 'submarine', 'suit', 'sundial', 'sunglass', 'sunglasses', 'sunscreen', 'suspension bridge', 'swab', 'sweatshirt', 'swimming trunks', 'swing', 'switch', 'syringe', 'table lamp', 'tank', 'tape player', 'teapot', 'teddy', 'television', 'tennis ball', 'thatch', 'theater curtain', 'thimble', 'thresher', 'throne', 'tile roof', 'toaster', 'tobacco shop', 'toilet seat', 'torch', 'totem pole', 'tow truck', 'toyshop', 'tractor', 'trailer truck', 'tray', 'trench coat', 'tricycle', 'trimaran', 'tripod', 'triumphal arch', 'trolleybus', 'trombone', 'tub', 'turnstile', 'typewriter keyboard', 'umbrella', 'unicycle', 'upright', 'vacuum', 'vase', 'vault', 'velvet', 'vending machine', 'vestment', 'viaduct', 'violin', 'volleyball', 'waffle iron', 'wall clock', 'wallet', 'wardrobe', 'warplane', 'washbasin', 'washer', 'water bottle', 'water jug', 'water tower', 'whiskey jug', 'whistle', 'wig', 'window screen', 'window shade', 'Windsor tie', 'wine bottle', 'wing', 'wok', 'wooden spoon', 'wool', 'worm fence', 'wreck', 'yawl', 'yurt', 'web site', 'comic book', 'crossword puzzle', 'street sign', 'traffic light', 'book jacket', 'menu', 'plate', 'guacamole', 'consomme', 'hot pot', 'trifle', 'ice cream', 'ice lolly', 'French loaf', 'bagel', 'pretzel', 'cheeseburger', 'hotdog', 'mashed potato', 'head cabbage', 'broccoli', 'cauliflower', 'zucchini', 'spaghetti squash', 'acorn squash', 'butternut squash', 'cucumber', 'artichoke', 'bell pepper', 'cardoon', 'mushroom', 'Granny Smith', 'strawberry', 'orange', 'lemon', 'fig', 'pineapple', 'banana', 'jackfruit', 'custard apple', 'pomegranate', 'hay', 'carbonara', 'chocolate sauce', 'dough', 'meat loaf', 'pizza', 'potpie', 'burrito', 'red wine', 'espresso', 'cup', 'eggnog', 'alp', 'bubble', 'cliff', 'coral reef', 'geyser', 'lakeside', 'promontory', 'sandbar', 'seashore', 'valley', 'volcano', 'ballplayer', 'groom', 'scuba diver', 'rapeseed', 'daisy', '\"yellow lady\\'s slipper', 'corn', 'acorn', 'hip', 'buckeye', 'coral fungus', 'agaric', 'gyromitra', 'stinkhorn', 'earthstar', 'hen-of-the-woods', 'bolete', 'ear', 'toilet tissue']\n"
          ]
        }
      ],
      "source": [
        "with open('classes.txt', 'r') as file:\n",
        "    lines = file.readlines()\n",
        "names = []\n",
        "for line in lines:\n",
        "    name = line.split(',')[0].strip()[4:]\n",
        "    if name[-1] == \"'\":\n",
        "        name = name[:-1]\n",
        "    if name[0] == \" \":\n",
        "        name = name[1:]\n",
        "    if name[0] == \"'\":\n",
        "        name = name[1:]\n",
        "    names.append(name)\n",
        "print(names)"
      ]
    },
    {
      "cell_type": "code",
      "execution_count": 24,
      "metadata": {},
      "outputs": [
        {
          "name": "stderr",
          "output_type": "stream",
          "text": [
            "C:\\Users\\harsh\\AppData\\Local\\Packages\\PythonSoftwareFoundation.Python.3.11_qbz5n2kfra8p0\\LocalCache\\local-packages\\Python311\\site-packages\\torchvision\\models\\_utils.py:223: UserWarning: Arguments other than a weight enum or `None` for 'weights' are deprecated since 0.13 and may be removed in the future. The current behavior is equivalent to passing `weights=ResNet50_Weights.IMAGENET1K_V1`. You can also use `weights=ResNet50_Weights.DEFAULT` to get the most up-to-date weights.\n",
            "  warnings.warn(msg)\n"
          ]
        }
      ],
      "source": [
        "resnet_imagenet = models.resnet50(weights=True)"
      ]
    },
    {
      "cell_type": "code",
      "execution_count": 47,
      "metadata": {},
      "outputs": [],
      "source": [
        "device = \"cuda\" if torch.cuda.is_available() else \"cpu\"\n",
        "model, preprocess = clip.load(\"RN50\", device=device)\n",
        "\n",
        "def preprocess_image(image_path):\n",
        "    image = Image.open(image_path)\n",
        "    image_input = preprocess(image).unsqueeze(0).to(device)\n",
        "    return image_input\n",
        "\n",
        "def preprocess_text(captions):\n",
        "    text_input = clip.tokenize(captions).to(device)\n",
        "    return text_input"
      ]
    },
    {
      "cell_type": "code",
      "execution_count": 32,
      "metadata": {},
      "outputs": [],
      "source": [
        "imagenet_classes = np.array(names)\n",
        "class_embeddings = []\n",
        "for class_name in imagenet_classes:\n",
        "  text_input = preprocess_text(class_name)\n",
        "  with torch.no_grad():\n",
        "    class_embedding = model.encode_text(text_input)\n",
        "  class_embeddings.append(class_embedding.squeeze())\n",
        "class_embeddings = torch.stack(class_embeddings)"
      ]
    },
    {
      "cell_type": "code",
      "execution_count": 38,
      "metadata": {},
      "outputs": [
        {
          "name": "stdout",
          "output_type": "stream",
          "text": [
            "Time taken: 0.010677425861358643 seconds\n"
          ]
        }
      ],
      "source": [
        "import time\n",
        "total_time = 0\n",
        "image_paths = [\"./images/n01440764_tench.jpg\", \"./images/n01532829_house_finch.jpg\", \"./images/n01632777_axolotl.jpg\", \"./images/n01644900_tailed_frog.jpg\", \"./images/n02676566_acoustic_guitar.jpg\"]\n",
        "for i in range(20):\n",
        "  for image_path in image_paths:\n",
        "    image = preprocess_image(image_path)\n",
        "    with torch.no_grad():\n",
        "      start = time.time()\n",
        "      image_feature = model.encode_image(image).squeeze()\n",
        "      end = time.time()\n",
        "      total_time += end - start\n",
        "    similarities = []\n",
        "    for embedding in class_embeddings:\n",
        "      dot_product = torch.dot(image_feature, embedding)\n",
        "      magnitude1 = torch.norm(image_feature)\n",
        "      magnitude2 = torch.norm(embedding)\n",
        "      similarity = dot_product / (magnitude1 * magnitude2)\n",
        "      similarities.append(similarity)\n",
        "    # print(similarities)\n",
        "    list_of_tensors_cpu = [tensor.cpu() for tensor in similarities]\n",
        "    numpy_arrays = [tensor.numpy() for tensor in list_of_tensors_cpu]\n",
        "    numpy_array = np.stack(numpy_arrays)\n",
        "    # print(numpy_array)\n",
        "    sorted_indices = np.argsort(numpy_array)\n",
        "    top5_indices = sorted_indices[-1:-6:-1]\n",
        "    # print(\"Indices of the top 5 values:\", top5_indices)\n",
        "    # print(\"Top 5 classes:\", imagenet_classes[top5_indices])\n",
        "print(\"Time taken:\", total_time/100, \"seconds\")"
      ]
    },
    {
      "cell_type": "code",
      "execution_count": 45,
      "metadata": {},
      "outputs": [
        {
          "name": "stdout",
          "output_type": "stream",
          "text": [
            "Top 5 classes: ['tench' 'goldfish' 'puffer' 'sturgeon' 'gar']\n",
            "Top 5 probabilities: [0.2556 0.2352 0.2344 0.2202 0.2152]\n",
            "Top 5 classes: ['house finch' 'coucal' 'bulbul' 'junco' 'hen']\n",
            "Top 5 probabilities: [0.2908 0.2435 0.2399 0.2303 0.2278]\n",
            "Top 5 classes: ['common newt' 'ringneck snake' 'European fire salamander'\n",
            " 'spotted salamander' 'rhinoceros beetle']\n",
            "Top 5 probabilities: [0.291  0.2615 0.2598 0.2576 0.235 ]\n",
            "Top 5 classes: ['tailed frog' 'bullfrog' 'amphibian' 'tree frog' 'spotted salamander']\n",
            "Top 5 probabilities: [0.2426 0.2274 0.2184 0.2043 0.1985]\n",
            "Top 5 classes: ['acoustic guitar' 'electric guitar' 'banjo' 'violin' 'cello']\n",
            "Top 5 probabilities: [0.2363 0.2112 0.2057 0.1932 0.1908]\n",
            "Time taken: 0.00076005220413208 seconds\n"
          ]
        }
      ],
      "source": [
        "import time\n",
        "total_time = 0\n",
        "image_paths = [\"./images/n01440764_tench.jpg\", \"./images/n01532829_house_finch.jpg\", \"./images/n01632777_axolotl.jpg\", \"./images/n01644900_tailed_frog.jpg\", \"./images/n02676566_acoustic_guitar.jpg\"]\n",
        "for i in range(1):\n",
        "  for image_path in image_paths:\n",
        "    image = preprocess_image(image_path)\n",
        "    with torch.no_grad():\n",
        "      start = time.time()\n",
        "      image_feature = model.encode_image(image).squeeze()\n",
        "      end = time.time()\n",
        "      total_time += end - start\n",
        "    similarities = []\n",
        "    for embedding in class_embeddings:\n",
        "      dot_product = torch.dot(image_feature, embedding)\n",
        "      magnitude1 = torch.norm(image_feature)\n",
        "      magnitude2 = torch.norm(embedding)\n",
        "      similarity = dot_product / (magnitude1 * magnitude2)\n",
        "      similarities.append(similarity)\n",
        "    # print(similarities)\n",
        "    list_of_tensors_cpu = [tensor.cpu() for tensor in similarities]\n",
        "    numpy_arrays = [tensor.numpy() for tensor in list_of_tensors_cpu]\n",
        "    numpy_array = np.stack(numpy_arrays)\n",
        "    # print(numpy_array)\n",
        "    sorted_indices = np.argsort(numpy_array)\n",
        "    top5_indices = sorted_indices[-1:-6:-1]\n",
        "    # print(\"Indices of the top 5 values:\", top5_indices)\n",
        "    print(\"Top 5 classes:\", imagenet_classes[top5_indices])\n",
        "    print(\"Top 5 probabilities:\", numpy_array[top5_indices])\n",
        "print(\"Time taken:\", total_time/100, \"seconds\")"
      ]
    },
    {
      "cell_type": "code",
      "execution_count": 48,
      "metadata": {},
      "outputs": [
        {
          "name": "stdout",
          "output_type": "stream",
          "text": [
            "Fri Apr 26 14:22:41 2024       \n",
            "+---------------------------------------------------------------------------------------+\n",
            "| NVIDIA-SMI 546.26                 Driver Version: 546.26       CUDA Version: 12.3     |\n",
            "|-----------------------------------------+----------------------+----------------------+\n",
            "| GPU  Name                     TCC/WDDM  | Bus-Id        Disp.A | Volatile Uncorr. ECC |\n",
            "| Fan  Temp   Perf          Pwr:Usage/Cap |         Memory-Usage | GPU-Util  Compute M. |\n",
            "|                                         |                      |               MIG M. |\n",
            "|=========================================+======================+======================|\n",
            "|   0  NVIDIA GeForce RTX 3070 ...  WDDM  | 00000000:01:00.0 Off |                  N/A |\n",
            "| N/A   44C    P5              19W / 143W |    912MiB /  8192MiB |     45%      Default |\n",
            "|                                         |                      |                  N/A |\n",
            "+-----------------------------------------+----------------------+----------------------+\n",
            "                                                                                         \n",
            "+---------------------------------------------------------------------------------------+\n",
            "| Processes:                                                                            |\n",
            "|  GPU   GI   CI        PID   Type   Process name                            GPU Memory |\n",
            "|        ID   ID                                                             Usage      |\n",
            "|=======================================================================================|\n",
            "|    0   N/A  N/A     20732      C   ...0_x64__qbz5n2kfra8p0\\python3.11.exe    N/A      |\n",
            "+---------------------------------------------------------------------------------------+\n",
            "\n"
          ]
        }
      ],
      "source": [
        "torch.cuda.empty_cache()\n",
        "image_paths = [\"./images/n01440764_tench.jpg\", \"./images/n01532829_house_finch.jpg\", \"./images/n01632777_axolotl.jpg\", \"./images/n01644900_tailed_frog.jpg\", \"./images/n02676566_acoustic_guitar.jpg\"]\n",
        "for i in range(1):\n",
        "  for image_path in image_paths:\n",
        "    image = preprocess_image(image_path)\n",
        "    with torch.no_grad():\n",
        "      start = time.time()\n",
        "      image_feature = model.encode_image(image).squeeze()\n",
        "      end = time.time()\n",
        "      total_time += end - start\n",
        "    similarities = []\n",
        "    for embedding in class_embeddings:\n",
        "      dot_product = torch.dot(image_feature, embedding)\n",
        "      magnitude1 = torch.norm(image_feature)\n",
        "      magnitude2 = torch.norm(embedding)\n",
        "      similarity = dot_product / (magnitude1 * magnitude2)\n",
        "      similarities.append(similarity)\n",
        "    list_of_tensors_cpu = [tensor.cpu() for tensor in similarities]\n",
        "    numpy_arrays = [tensor.numpy() for tensor in list_of_tensors_cpu]\n",
        "    numpy_array = np.stack(numpy_arrays)\n",
        "    sorted_indices = np.argsort(numpy_array)\n",
        "    top5_indices = sorted_indices[-1:-6:-1]\n",
        "print(monitor_gpu_memory())"
      ]
    },
    {
      "cell_type": "code",
      "execution_count": 52,
      "metadata": {},
      "outputs": [],
      "source": [
        "model, preprocess = clip.load(\"RN50\", device=device)\n",
        "model = model.half()"
      ]
    },
    {
      "cell_type": "code",
      "execution_count": 53,
      "metadata": {},
      "outputs": [],
      "source": [
        "def preprocess_image(image_path):\n",
        "    image = Image.open(image_path)\n",
        "    image_input = preprocess(image).unsqueeze(0).to(device)\n",
        "    return image_input\n",
        "\n",
        "def preprocess_text(captions):\n",
        "    text_input = clip.tokenize(captions).to(device)\n",
        "    return text_input"
      ]
    },
    {
      "cell_type": "code",
      "execution_count": 54,
      "metadata": {},
      "outputs": [
        {
          "name": "stdout",
          "output_type": "stream",
          "text": [
            "Time taken: 0.011531620025634766 seconds\n",
            "0.0019128007460889886\n"
          ]
        }
      ],
      "source": [
        "import time\n",
        "total_time = []\n",
        "image_paths = [\"./images/n01440764_tench.jpg\", \"./images/n01532829_house_finch.jpg\", \"./images/n01632777_axolotl.jpg\", \"./images/n01644900_tailed_frog.jpg\", \"./images/n02676566_acoustic_guitar.jpg\"]\n",
        "for i in range(20):\n",
        "  for image_path in image_paths:\n",
        "    image = preprocess_image(image_path)\n",
        "    with torch.no_grad():\n",
        "      start = time.time()\n",
        "      image_feature = model.encode_image(image).squeeze()\n",
        "      end = time.time()\n",
        "      total = end - start\n",
        "      total_time.append(total)\n",
        "    similarities = []\n",
        "    for embedding in class_embeddings:\n",
        "      dot_product = torch.dot(image_feature, embedding)\n",
        "      magnitude1 = torch.norm(image_feature)\n",
        "      magnitude2 = torch.norm(embedding)\n",
        "      similarity = dot_product / (magnitude1 * magnitude2)\n",
        "      similarities.append(similarity)\n",
        "    # print(similarities)\n",
        "    list_of_tensors_cpu = [tensor.cpu() for tensor in similarities]\n",
        "    numpy_arrays = [tensor.numpy() for tensor in list_of_tensors_cpu]\n",
        "    numpy_array = np.stack(numpy_arrays)\n",
        "    # print(numpy_array)\n",
        "    sorted_indices = np.argsort(numpy_array)\n",
        "    top5_indices = sorted_indices[-1:-6:-1]\n",
        "    # print(\"Indices of the top 5 values:\", top5_indices)\n",
        "    # print(\"Top 5 classes:\", imagenet_classes[top5_indices])\n",
        "print(\"Time taken:\", np.sum(np.array(total_time))/100, \"seconds\")\n",
        "print(np.std(np.array(total_time)))"
      ]
    },
    {
      "cell_type": "code",
      "execution_count": 43,
      "metadata": {},
      "outputs": [
        {
          "name": "stdout",
          "output_type": "stream",
          "text": [
            "Top 5 classes: ['tench' 'goldfish' 'puffer' 'sturgeon' 'gar']\n",
            "Top 5 probabilities: [0.2556 0.2356 0.235  0.2203 0.2155]\n",
            "Top 5 classes: ['house finch' 'coucal' 'bulbul' 'junco' 'hen']\n",
            "Top 5 probabilities: [0.291  0.2439 0.2399 0.2302 0.2281]\n",
            "Top 5 classes: ['common newt' 'ringneck snake' 'European fire salamander'\n",
            " 'spotted salamander' 'rhinoceros beetle']\n",
            "Top 5 probabilities: [0.2908 0.2612 0.26   0.2578 0.2345]\n",
            "Top 5 classes: ['tailed frog' 'bullfrog' 'amphibian' 'tree frog' 'spotted salamander']\n",
            "Top 5 probabilities: [0.2426 0.2272 0.2183 0.2042 0.1987]\n",
            "Top 5 classes: ['acoustic guitar' 'electric guitar' 'banjo' 'violin' 'cello']\n",
            "Top 5 probabilities: [0.2365 0.211  0.2058 0.1932 0.1908]\n",
            "Time taken: 0.0007296371459960938 seconds\n"
          ]
        }
      ],
      "source": [
        "import time\n",
        "total_time = 0\n",
        "image_paths = [\"./images/n01440764_tench.jpg\", \"./images/n01532829_house_finch.jpg\", \"./images/n01632777_axolotl.jpg\", \"./images/n01644900_tailed_frog.jpg\", \"./images/n02676566_acoustic_guitar.jpg\"]\n",
        "for i in range(1):\n",
        "  for image_path in image_paths:\n",
        "    image = preprocess_image(image_path)\n",
        "    with torch.no_grad():\n",
        "      start = time.time()\n",
        "      image_feature = model.encode_image(image).squeeze()\n",
        "      end = time.time()\n",
        "      total_time += end - start\n",
        "    similarities = []\n",
        "    for embedding in class_embeddings:\n",
        "      dot_product = torch.dot(image_feature, embedding)\n",
        "      magnitude1 = torch.norm(image_feature)\n",
        "      magnitude2 = torch.norm(embedding)\n",
        "      similarity = dot_product / (magnitude1 * magnitude2)\n",
        "      similarities.append(similarity)\n",
        "    # print(similarities)\n",
        "    list_of_tensors_cpu = [tensor.cpu() for tensor in similarities]\n",
        "    numpy_arrays = [tensor.numpy() for tensor in list_of_tensors_cpu]\n",
        "    numpy_array = np.stack(numpy_arrays)\n",
        "    # print(numpy_array)\n",
        "    sorted_indices = np.argsort(numpy_array)\n",
        "    top5_indices = sorted_indices[-1:-6:-1]\n",
        "    # print(\"Indices of the top 5 values:\", top5_indices)\n",
        "    print(\"Top 5 classes:\", imagenet_classes[top5_indices])\n",
        "    print(\"Top 5 probabilities:\", numpy_array[top5_indices])\n",
        "print(\"Time taken:\", total_time/100, \"seconds\")"
      ]
    },
    {
      "cell_type": "code",
      "execution_count": 51,
      "metadata": {},
      "outputs": [
        {
          "name": "stdout",
          "output_type": "stream",
          "text": [
            "Fri Apr 26 14:23:19 2024       \n",
            "+---------------------------------------------------------------------------------------+\n",
            "| NVIDIA-SMI 546.26                 Driver Version: 546.26       CUDA Version: 12.3     |\n",
            "|-----------------------------------------+----------------------+----------------------+\n",
            "| GPU  Name                     TCC/WDDM  | Bus-Id        Disp.A | Volatile Uncorr. ECC |\n",
            "| Fan  Temp   Perf          Pwr:Usage/Cap |         Memory-Usage | GPU-Util  Compute M. |\n",
            "|                                         |                      |               MIG M. |\n",
            "|=========================================+======================+======================|\n",
            "|   0  NVIDIA GeForce RTX 3070 ...  WDDM  | 00000000:01:00.0 Off |                  N/A |\n",
            "| N/A   45C    P0              25W / 120W |    794MiB /  8192MiB |     25%      Default |\n",
            "|                                         |                      |                  N/A |\n",
            "+-----------------------------------------+----------------------+----------------------+\n",
            "                                                                                         \n",
            "+---------------------------------------------------------------------------------------+\n",
            "| Processes:                                                                            |\n",
            "|  GPU   GI   CI        PID   Type   Process name                            GPU Memory |\n",
            "|        ID   ID                                                             Usage      |\n",
            "|=======================================================================================|\n",
            "|    0   N/A  N/A     20732      C   ...0_x64__qbz5n2kfra8p0\\python3.11.exe    N/A      |\n",
            "+---------------------------------------------------------------------------------------+\n",
            "\n"
          ]
        }
      ],
      "source": [
        "torch.cuda.empty_cache()\n",
        "image_paths = [\"./images/n01440764_tench.jpg\", \"./images/n01532829_house_finch.jpg\", \"./images/n01632777_axolotl.jpg\", \"./images/n01644900_tailed_frog.jpg\", \"./images/n02676566_acoustic_guitar.jpg\"]\n",
        "for i in range(1):\n",
        "  for image_path in image_paths:\n",
        "    image = preprocess_image(image_path)\n",
        "    with torch.no_grad():\n",
        "      start = time.time()\n",
        "      image_feature = model.encode_image(image).squeeze()\n",
        "      end = time.time()\n",
        "      total_time += end - start\n",
        "    similarities = []\n",
        "    for embedding in class_embeddings:\n",
        "      dot_product = torch.dot(image_feature, embedding)\n",
        "      magnitude1 = torch.norm(image_feature)\n",
        "      magnitude2 = torch.norm(embedding)\n",
        "      similarity = dot_product / (magnitude1 * magnitude2)\n",
        "      similarities.append(similarity)\n",
        "    list_of_tensors_cpu = [tensor.cpu() for tensor in similarities]\n",
        "    numpy_arrays = [tensor.numpy() for tensor in list_of_tensors_cpu]\n",
        "    numpy_array = np.stack(numpy_arrays)\n",
        "    sorted_indices = np.argsort(numpy_array)\n",
        "    top5_indices = sorted_indices[-1:-6:-1]\n",
        "print(monitor_gpu_memory())"
      ]
    },
    {
      "cell_type": "markdown",
      "metadata": {},
      "source": [
        "# Observations: \n",
        "\n",
        "\n",
        "ResNet-50 (RN50) initialized with ImageNet pretraining and OpenAI's CLIP use similar base architectures but have different modifications to suit their respective tasks.\n",
        "\n",
        "(a) ImageNet Pretraining (torchvision.models):\n",
        "The ResNet-50 model initialized with ImageNet pretraining typically consists of 50 layers and is trained on the ImageNet dataset for image classification. It follows the standard ResNet architecture, which includes residual blocks with skip connections to alleviate the vanishing gradient problem. Each residual block contains several convolutional layers followed by batch normalization and ReLU activation.\n",
        "\n",
        "(b) OpenAI's CLIP:\n",
        "The ResNet-50 used in OpenAI's CLIP framework is modified to serve a dual-purpose: image understanding and natural language understanding. Therefore, it combines convolutional layers for image processing and transformer layers for text processing. The architecture includes alternating layers of convolutional and transformer layers, where the convolutional layers process the image input, and the transformer layers process the text input. Additionally, CLIP's ResNet-50 is trained on a diverse dataset that includes images and associated text, which is different from ImageNet pretraining.\n",
        "\n",
        "Differences:\n",
        "\n",
        "Text Processing Layers: OpenAI's CLIP ResNet-50 incorporates transformer layers for processing textual inputs, allowing the model to understand and process both images and text. This is a significant difference compared to the standard ResNet-50 used for ImageNet pretraining, which focuses solely on image inputs.\n",
        "Training Data: The ResNet-50 model pretrained on ImageNet is trained solely on images for image classification tasks. In contrast, CLIP's ResNet-50 is trained on a diverse dataset that includes both images and associated text, allowing it to understand and associate images with textual descriptions.\n",
        "Objective: The objective of pretraining ResNet-50 on ImageNet is to learn image representations that are useful for various downstream image-related tasks. On the other hand, CLIP's ResNet-50 is trained to understand and associate images with text, enabling it to perform tasks like image-text retrieval and zero-shot image classification.\n",
        "\n",
        "\n",
        "\n",
        "\n",
        "(i) The ImageNet challenge dataset organizes its labels hierarchically according to the WordNet hierarchy. WordNet is a lexical database of English, where nouns, verbs, adjectives, and adverbs are grouped into sets of cognitive synonyms (synsets), each expressing a distinct concept.\n",
        "\n",
        "(ii) In ImageNet, a synset refers to a set of synonymous words that represent a concept. For instance, the synset \"dog\" might include words like \"pooch,\" \"hound,\" and \"canine.\" Synsets in ImageNet are often used as labels for object recognition tasks.\n",
        "\n",
        "(iii) Grouping objects based on synsets could indeed lead to problems for visual recognition, especially in cases where objects within the same synset exhibit significant visual variations. For example, the synset \"dog\" could include various dog breeds, each with distinct appearances. Additionally, objects from different synsets might share visual similarities, leading to potential confusion.\n",
        "\n",
        "(iv) Three types of visual differences we can expect to see in images with objects corresponding to the same synset are:\n",
        "\n",
        "Appearance Variation: Objects within the same synset may vary in appearance due to factors like color, size, shape, and texture. For example, different breeds of dogs (e.g., Labrador Retriever, Poodle) may exhibit diverse physical characteristics despite belonging to the same synset (\"dog\").\n",
        "Viewpoint Variation: Objects may appear differently in images depending on the viewpoint from which they are captured. For instance, a chair photographed from the front may look different from the same chair photographed from the side, even though both images depict the same object belonging to the synset \"chair.\"\n",
        "Contextual Variation: The appearance of objects can be influenced by their surrounding context. For example, a \"car\" photographed on a city street may look different from a \"car\" photographed in a desert landscape, even though both images depict objects belonging to the same synset.\n",
        "\n",
        "\n",
        "There are some differences in the probabilities of the f32 and f16 model as the f16 model can store lesser information abd thus it performes worser as it can get confused easily. While since the most important information is stored in the f16, it performs good enough."
      ]
    }
  ],
  "metadata": {
    "colab": {
      "provenance": []
    },
    "kernelspec": {
      "display_name": "Python 3",
      "language": "python",
      "name": "python3"
    },
    "language_info": {
      "codemirror_mode": {
        "name": "ipython",
        "version": 3
      },
      "file_extension": ".py",
      "mimetype": "text/x-python",
      "name": "python",
      "nbconvert_exporter": "python",
      "pygments_lexer": "ipython3",
      "version": "3.11.9"
    }
  },
  "nbformat": 4,
  "nbformat_minor": 0
}
